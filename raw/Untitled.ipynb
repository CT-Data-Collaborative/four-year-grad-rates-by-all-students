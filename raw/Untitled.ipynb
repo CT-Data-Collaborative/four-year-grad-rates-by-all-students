{
 "cells": [
  {
   "cell_type": "code",
   "execution_count": 1,
   "metadata": {},
   "outputs": [],
   "source": [
    "import pandas as pd"
   ]
  },
  {
   "cell_type": "code",
   "execution_count": 11,
   "metadata": {},
   "outputs": [],
   "source": [
    "schools2017 = pd.read_csv('four-year-graduation-rates__2016-17_all-students_grad.csv', skiprows=4)['District'].to_list()\n",
    "schools2018 = pd.read_csv('four-year-graduation-rates__2017-18_all-students_grad.csv', skiprows=4)['District'].to_list()"
   ]
  },
  {
   "cell_type": "code",
   "execution_count": 14,
   "metadata": {},
   "outputs": [
    {
     "data": {
      "text/plain": [
       "{'Achievement First Bridgeport Academy District',\n",
       " 'Achievement First Hartford Academy District',\n",
       " 'Achievement First Hartford Academy Inc. District',\n",
       " 'Bridgeport Achievement First District',\n",
       " 'Capital Preparatory Harbor School District',\n",
       " 'Capital Preparatory Harbor School Inc. District',\n",
       " 'The Woodstock Academy District',\n",
       " 'Woodstock Academy District'}"
      ]
     },
     "execution_count": 14,
     "metadata": {},
     "output_type": "execute_result"
    }
   ],
   "source": [
    "set(schools2017) ^ set(schools2018)"
   ]
  },
  {
   "cell_type": "code",
   "execution_count": 15,
   "metadata": {},
   "outputs": [
    {
     "data": {
      "text/plain": [
       "['Achievement First Hartford Academy Inc. District',\n",
       " 'Amistad Academy District',\n",
       " 'Ansonia School District',\n",
       " 'Avon School District',\n",
       " 'Berlin School District',\n",
       " 'Bethel School District',\n",
       " 'Bloomfield School District',\n",
       " 'Bolton School District',\n",
       " 'Branford School District',\n",
       " 'Bridgeport Achievement First District',\n",
       " 'Bridgeport School District',\n",
       " 'Bristol School District',\n",
       " 'Brookfield School District',\n",
       " 'Canton School District',\n",
       " 'Capital Preparatory Harbor School Inc. District',\n",
       " 'Capitol Region Education Council',\n",
       " 'Cheshire School District',\n",
       " 'Clinton School District',\n",
       " 'Colchester School District',\n",
       " 'Common Ground High School District',\n",
       " 'Connecticut Technical Education and Career System',\n",
       " 'Coventry School District',\n",
       " 'Cromwell School District',\n",
       " 'Danbury School District',\n",
       " 'Darien School District',\n",
       " 'Department of Mental Health and Addiction Services',\n",
       " 'Derby School District',\n",
       " 'East Granby School District',\n",
       " 'East Haddam School District',\n",
       " 'East Hampton School District',\n",
       " 'East Hartford School District',\n",
       " 'East Haven School District',\n",
       " 'East Lyme School District',\n",
       " 'East Windsor School District',\n",
       " 'Eastern Connecticut Regional Educational Service Center (EASTCONN)',\n",
       " 'Ellington School District',\n",
       " 'Elm City College Preparatory School District',\n",
       " 'Enfield School District',\n",
       " 'Explorations District',\n",
       " 'Fairfield School District',\n",
       " 'Farmington School District',\n",
       " 'Glastonbury School District',\n",
       " 'Granby School District',\n",
       " 'Greenwich School District',\n",
       " 'Griswold School District',\n",
       " 'Groton School District',\n",
       " 'Guilford School District',\n",
       " 'Hamden School District',\n",
       " 'Hartford School District',\n",
       " 'Highville Charter School District',\n",
       " 'Jumoke Academy District',\n",
       " 'Killingly School District',\n",
       " 'Learn',\n",
       " 'Lebanon School District',\n",
       " 'Ledyard School District',\n",
       " 'Litchfield School District',\n",
       " 'Madison School District',\n",
       " 'Manchester School District',\n",
       " 'Meriden School District',\n",
       " 'Middletown School District',\n",
       " 'Milford School District',\n",
       " 'Monroe School District',\n",
       " 'Montville School District',\n",
       " 'Naugatuck School District',\n",
       " 'New Britain School District',\n",
       " 'New Canaan School District',\n",
       " 'New Fairfield School District',\n",
       " 'New Haven School District',\n",
       " 'New London School District',\n",
       " 'New Milford School District',\n",
       " 'Newington School District',\n",
       " 'Newtown School District',\n",
       " 'North Branford School District',\n",
       " 'North Haven School District',\n",
       " 'North Stonington School District',\n",
       " 'Norwalk School District',\n",
       " 'Norwich Free Academy District',\n",
       " 'Old Saybrook School District',\n",
       " 'Oxford School District',\n",
       " 'Path Academy District',\n",
       " 'Plainfield School District',\n",
       " 'Plainville School District',\n",
       " 'Plymouth School District',\n",
       " 'Portland School District',\n",
       " 'Putnam School District',\n",
       " 'Regional School District 01',\n",
       " 'Regional School District 04',\n",
       " 'Regional School District 05',\n",
       " 'Regional School District 06',\n",
       " 'Regional School District 07',\n",
       " 'Regional School District 08',\n",
       " 'Regional School District 09',\n",
       " 'Regional School District 10',\n",
       " 'Regional School District 11',\n",
       " 'Regional School District 12',\n",
       " 'Regional School District 13',\n",
       " 'Regional School District 14',\n",
       " 'Regional School District 15',\n",
       " 'Regional School District 16',\n",
       " 'Regional School District 17',\n",
       " 'Regional School District 18',\n",
       " 'Regional School District 19',\n",
       " 'Ridgefield School District',\n",
       " 'Rocky Hill School District',\n",
       " 'Seymour School District',\n",
       " 'Shelton School District',\n",
       " 'Simsbury School District',\n",
       " 'Somers School District',\n",
       " 'South Windsor School District',\n",
       " 'Southington School District',\n",
       " 'Stafford School District',\n",
       " 'Stamford Academy District',\n",
       " 'Stamford School District',\n",
       " 'Stonington School District',\n",
       " 'Stratford School District',\n",
       " 'Suffield School District',\n",
       " 'The Bridge Academy District',\n",
       " 'The Gilbert School District',\n",
       " 'Thomaston School District',\n",
       " 'Thompson School District',\n",
       " 'Tolland School District',\n",
       " 'Torrington School District',\n",
       " 'Trumbull School District',\n",
       " 'Unified School District #1',\n",
       " 'Unified School District #2',\n",
       " 'Vernon School District',\n",
       " 'Wallingford School District',\n",
       " 'Waterbury School District',\n",
       " 'Waterford School District',\n",
       " 'Watertown School District',\n",
       " 'West Hartford School District',\n",
       " 'West Haven School District',\n",
       " 'Westbrook School District',\n",
       " 'Weston School District',\n",
       " 'Westport School District',\n",
       " 'Wethersfield School District',\n",
       " 'Wilton School District',\n",
       " 'Windham School District',\n",
       " 'Windsor Locks School District',\n",
       " 'Windsor School District',\n",
       " 'Wolcott School District',\n",
       " 'Woodstock Academy District']"
      ]
     },
     "execution_count": 15,
     "metadata": {},
     "output_type": "execute_result"
    }
   ],
   "source": [
    "schools2017"
   ]
  },
  {
   "cell_type": "code",
   "execution_count": null,
   "metadata": {},
   "outputs": [],
   "source": []
  }
 ],
 "metadata": {
  "kernelspec": {
   "display_name": "Python 3",
   "language": "python",
   "name": "python3"
  },
  "language_info": {
   "codemirror_mode": {
    "name": "ipython",
    "version": 3
   },
   "file_extension": ".py",
   "mimetype": "text/x-python",
   "name": "python",
   "nbconvert_exporter": "python",
   "pygments_lexer": "ipython3",
   "version": "3.7.3"
  }
 },
 "nbformat": 4,
 "nbformat_minor": 4
}
